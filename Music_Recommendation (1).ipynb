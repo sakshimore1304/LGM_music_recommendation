{
 "cells": [
  {
   "cell_type": "markdown",
   "id": "949cb1e3",
   "metadata": {},
   "source": [
    "# MUSIC RECOMMENDATION SYSTEM"
   ]
  },
  {
   "cell_type": "markdown",
   "id": "21577c10",
   "metadata": {},
   "source": [
    "### This data analysis is done by - Sakshi More"
   ]
  },
  {
   "cell_type": "markdown",
   "id": "36027884",
   "metadata": {},
   "source": [
    "### The dataset is taken from kaggle.com"
   ]
  },
  {
   "cell_type": "markdown",
   "id": "4f69d9d1",
   "metadata": {},
   "source": [
    "#### importing all the required libraries"
   ]
  },
  {
   "cell_type": "code",
   "execution_count": 1,
   "id": "dae61cd4",
   "metadata": {},
   "outputs": [],
   "source": [
    "import pandas as pd\n",
    "import numpy as np\n",
    "import matplotlib.pyplot as plt\n",
    "import seaborn as sns\n",
    "%matplotlib inline"
   ]
  },
  {
   "cell_type": "code",
   "execution_count": 2,
   "id": "d7c816aa",
   "metadata": {},
   "outputs": [
    {
     "name": "stderr",
     "output_type": "stream",
     "text": [
      "<ipython-input-2-5e4e7451815c>:1: ParserWarning: Falling back to the 'python' engine because the 'c' engine does not support regex separators (separators > 1 char and different from '\\s+' are interpreted as regex); you can avoid this warning by specifying engine='python'.\n",
      "  data=pd.read_csv(\"Best Songs on Spotify from 2000-2023.csv\",delimiter='\\;')\n"
     ]
    }
   ],
   "source": [
    "data=pd.read_csv(\"Best Songs on Spotify from 2000-2023.csv\",delimiter='\\;')"
   ]
  },
  {
   "cell_type": "code",
   "execution_count": 3,
   "id": "c0e647c6",
   "metadata": {},
   "outputs": [
    {
     "data": {
      "text/html": [
       "<div>\n",
       "<style scoped>\n",
       "    .dataframe tbody tr th:only-of-type {\n",
       "        vertical-align: middle;\n",
       "    }\n",
       "\n",
       "    .dataframe tbody tr th {\n",
       "        vertical-align: top;\n",
       "    }\n",
       "\n",
       "    .dataframe thead th {\n",
       "        text-align: right;\n",
       "    }\n",
       "</style>\n",
       "<table border=\"1\" class=\"dataframe\">\n",
       "  <thead>\n",
       "    <tr style=\"text-align: right;\">\n",
       "      <th></th>\n",
       "      <th>title</th>\n",
       "      <th>artist</th>\n",
       "      <th>top genre</th>\n",
       "      <th>year</th>\n",
       "      <th>bpm</th>\n",
       "      <th>energy</th>\n",
       "      <th>danceability</th>\n",
       "      <th>dB</th>\n",
       "      <th>liveness</th>\n",
       "      <th>valence</th>\n",
       "      <th>duration</th>\n",
       "      <th>acousticness</th>\n",
       "      <th>speechiness</th>\n",
       "      <th>popularity</th>\n",
       "    </tr>\n",
       "  </thead>\n",
       "  <tbody>\n",
       "    <tr>\n",
       "      <th>0</th>\n",
       "      <td>Flowers</td>\n",
       "      <td>Miley Cyrus</td>\n",
       "      <td>pop</td>\n",
       "      <td>2023</td>\n",
       "      <td>118</td>\n",
       "      <td>68</td>\n",
       "      <td>71</td>\n",
       "      <td>-4</td>\n",
       "      <td>3</td>\n",
       "      <td>65</td>\n",
       "      <td>200</td>\n",
       "      <td>6</td>\n",
       "      <td>7</td>\n",
       "      <td>98</td>\n",
       "    </tr>\n",
       "    <tr>\n",
       "      <th>1</th>\n",
       "      <td>Cupid - Twin Ver.</td>\n",
       "      <td>FIFTY FIFTY</td>\n",
       "      <td>k-pop girl group</td>\n",
       "      <td>2023</td>\n",
       "      <td>120</td>\n",
       "      <td>59</td>\n",
       "      <td>78</td>\n",
       "      <td>-8</td>\n",
       "      <td>35</td>\n",
       "      <td>73</td>\n",
       "      <td>174</td>\n",
       "      <td>44</td>\n",
       "      <td>3</td>\n",
       "      <td>97</td>\n",
       "    </tr>\n",
       "    <tr>\n",
       "      <th>2</th>\n",
       "      <td>BESO</td>\n",
       "      <td>ROSALÍA</td>\n",
       "      <td>pop</td>\n",
       "      <td>2023</td>\n",
       "      <td>95</td>\n",
       "      <td>64</td>\n",
       "      <td>77</td>\n",
       "      <td>-7</td>\n",
       "      <td>17</td>\n",
       "      <td>53</td>\n",
       "      <td>195</td>\n",
       "      <td>74</td>\n",
       "      <td>14</td>\n",
       "      <td>96</td>\n",
       "    </tr>\n",
       "    <tr>\n",
       "      <th>3</th>\n",
       "      <td>Boy's a liar Pt. 2</td>\n",
       "      <td>PinkPantheress</td>\n",
       "      <td>bronx drill</td>\n",
       "      <td>2023</td>\n",
       "      <td>133</td>\n",
       "      <td>81</td>\n",
       "      <td>70</td>\n",
       "      <td>-8</td>\n",
       "      <td>25</td>\n",
       "      <td>86</td>\n",
       "      <td>131</td>\n",
       "      <td>25</td>\n",
       "      <td>5</td>\n",
       "      <td>96</td>\n",
       "    </tr>\n",
       "    <tr>\n",
       "      <th>4</th>\n",
       "      <td>Creepin' (with The Weeknd &amp; 21 Savage)</td>\n",
       "      <td>Metro Boomin</td>\n",
       "      <td>rap</td>\n",
       "      <td>2022</td>\n",
       "      <td>98</td>\n",
       "      <td>62</td>\n",
       "      <td>72</td>\n",
       "      <td>-6</td>\n",
       "      <td>8</td>\n",
       "      <td>17</td>\n",
       "      <td>222</td>\n",
       "      <td>42</td>\n",
       "      <td>5</td>\n",
       "      <td>96</td>\n",
       "    </tr>\n",
       "  </tbody>\n",
       "</table>\n",
       "</div>"
      ],
      "text/plain": [
       "                                    title          artist         top genre  \\\n",
       "0                                 Flowers     Miley Cyrus               pop   \n",
       "1                       Cupid - Twin Ver.     FIFTY FIFTY  k-pop girl group   \n",
       "2                                    BESO         ROSALÍA               pop   \n",
       "3                      Boy's a liar Pt. 2  PinkPantheress       bronx drill   \n",
       "4  Creepin' (with The Weeknd & 21 Savage)    Metro Boomin               rap   \n",
       "\n",
       "   year  bpm  energy  danceability   dB  liveness  valence  duration  \\\n",
       "0  2023  118      68             71  -4         3       65       200   \n",
       "1  2023  120      59             78  -8        35       73       174   \n",
       "2  2023   95      64             77  -7        17       53       195   \n",
       "3  2023  133      81             70  -8        25       86       131   \n",
       "4  2022   98      62             72  -6         8       17       222   \n",
       "\n",
       "   acousticness  speechiness   popularity  \n",
       "0             6             7          98  \n",
       "1            44             3          97  \n",
       "2            74            14          96  \n",
       "3            25             5          96  \n",
       "4            42             5          96  "
      ]
     },
     "execution_count": 3,
     "metadata": {},
     "output_type": "execute_result"
    }
   ],
   "source": [
    "data.head()"
   ]
  },
  {
   "cell_type": "markdown",
   "id": "ec07f7a9",
   "metadata": {},
   "source": [
    "#### determining the shape of the data"
   ]
  },
  {
   "cell_type": "code",
   "execution_count": 4,
   "id": "fa93379e",
   "metadata": {},
   "outputs": [
    {
     "data": {
      "text/plain": [
       "(2385, 14)"
      ]
     },
     "execution_count": 4,
     "metadata": {},
     "output_type": "execute_result"
    }
   ],
   "source": [
    "data.shape"
   ]
  },
  {
   "cell_type": "markdown",
   "id": "6e073fad",
   "metadata": {},
   "source": [
    "#### determining the columns of the dataset"
   ]
  },
  {
   "cell_type": "code",
   "execution_count": 5,
   "id": "8b1e9ac7",
   "metadata": {},
   "outputs": [
    {
     "data": {
      "text/plain": [
       "Index(['title', 'artist', 'top genre', 'year', 'bpm', 'energy',\n",
       "       'danceability ', 'dB', 'liveness', 'valence', 'duration',\n",
       "       'acousticness', 'speechiness ', 'popularity'],\n",
       "      dtype='object')"
      ]
     },
     "execution_count": 5,
     "metadata": {},
     "output_type": "execute_result"
    }
   ],
   "source": [
    "data.columns"
   ]
  },
  {
   "cell_type": "markdown",
   "id": "9b58ad13",
   "metadata": {},
   "source": [
    "#### checking the datatyppe of the columns"
   ]
  },
  {
   "cell_type": "code",
   "execution_count": 6,
   "id": "4242dc87",
   "metadata": {},
   "outputs": [
    {
     "data": {
      "text/plain": [
       "title            object\n",
       "artist           object\n",
       "top genre        object\n",
       "year              int64\n",
       "bpm               int64\n",
       "energy            int64\n",
       "danceability      int64\n",
       "dB                int64\n",
       "liveness          int64\n",
       "valence           int64\n",
       "duration          int64\n",
       "acousticness      int64\n",
       "speechiness       int64\n",
       "popularity        int64\n",
       "dtype: object"
      ]
     },
     "execution_count": 6,
     "metadata": {},
     "output_type": "execute_result"
    }
   ],
   "source": [
    "data.dtypes"
   ]
  },
  {
   "cell_type": "markdown",
   "id": "05be1e25",
   "metadata": {},
   "source": [
    "#### checking if the data contains any null values"
   ]
  },
  {
   "cell_type": "code",
   "execution_count": 7,
   "id": "1422aba1",
   "metadata": {},
   "outputs": [
    {
     "data": {
      "text/plain": [
       "title            0\n",
       "artist           0\n",
       "top genre        0\n",
       "year             0\n",
       "bpm              0\n",
       "energy           0\n",
       "danceability     0\n",
       "dB               0\n",
       "liveness         0\n",
       "valence          0\n",
       "duration         0\n",
       "acousticness     0\n",
       "speechiness      0\n",
       "popularity       0\n",
       "dtype: int64"
      ]
     },
     "execution_count": 7,
     "metadata": {},
     "output_type": "execute_result"
    }
   ],
   "source": [
    "data.isnull().sum()"
   ]
  },
  {
   "cell_type": "markdown",
   "id": "ebf91c28",
   "metadata": {},
   "source": [
    "this shows that our data does not contain any null value"
   ]
  },
  {
   "cell_type": "markdown",
   "id": "815406dc",
   "metadata": {},
   "source": [
    "#### the duration column has values in seconds . Lets convert it iinto minutes"
   ]
  },
  {
   "cell_type": "code",
   "execution_count": 8,
   "id": "9db7a0a0",
   "metadata": {},
   "outputs": [],
   "source": [
    "data['duration']=data['duration']//60\n"
   ]
  },
  {
   "cell_type": "code",
   "execution_count": 9,
   "id": "108594e0",
   "metadata": {},
   "outputs": [
    {
     "data": {
      "text/plain": [
       "0       3\n",
       "1       2\n",
       "2       3\n",
       "3       2\n",
       "4       3\n",
       "       ..\n",
       "2380    3\n",
       "2381    4\n",
       "2382    4\n",
       "2383    2\n",
       "2384    2\n",
       "Name: duration, Length: 2385, dtype: int64"
      ]
     },
     "execution_count": 9,
     "metadata": {},
     "output_type": "execute_result"
    }
   ],
   "source": [
    "data['duration']"
   ]
  },
  {
   "cell_type": "markdown",
   "id": "9adcecda",
   "metadata": {},
   "source": [
    "#### danceability of the song means that higher value more the person feels to dance on the song. Curretly it is present in numeric format. Lets convert it into string categories"
   ]
  },
  {
   "cell_type": "code",
   "execution_count": 10,
   "id": "fa0d9ca0",
   "metadata": {},
   "outputs": [],
   "source": [
    "\n",
    "data.loc[data.valence<=30,'valence_type']='Sad'\n",
    "data.loc[data.valence.any()>30 and data.valence.any()<=60,'valence_type']='Normal'\n",
    "data.loc[data.valence>60,'valence_type']='Positive'"
   ]
  },
  {
   "cell_type": "markdown",
   "id": "1593e80c",
   "metadata": {},
   "source": [
    "#### liveliness of the song means that hugher value indicates that the song is a live recording. lets categorize these values into 2"
   ]
  },
  {
   "cell_type": "code",
   "execution_count": 11,
   "id": "f789153c",
   "metadata": {},
   "outputs": [],
   "source": [
    "data.loc[data.liveness<=50,'liveness_type']='Not so Lively'\n",
    "data.loc[data.liveness>50,'liveness_type']='Lively'"
   ]
  },
  {
   "cell_type": "markdown",
   "id": "1c8f0c6b",
   "metadata": {},
   "source": [
    "#### popularity of the song means higher value indiactes higher popularity of the song. lets categorize these values into 3 types"
   ]
  },
  {
   "cell_type": "code",
   "execution_count": 12,
   "id": "597f6a00",
   "metadata": {},
   "outputs": [],
   "source": [
    "data.loc[data.popularity<=30,'popularity_type']='Not Popular'\n",
    "data.loc[data.popularity.any()>30 and data.popularity.any()<=60,'popularity_type']='Less Popular'\n",
    "data.loc[data.popularity>60,'popularity_type']='Popular'"
   ]
  },
  {
   "cell_type": "code",
   "execution_count": 13,
   "id": "1ff10396",
   "metadata": {},
   "outputs": [
    {
     "data": {
      "text/html": [
       "<div>\n",
       "<style scoped>\n",
       "    .dataframe tbody tr th:only-of-type {\n",
       "        vertical-align: middle;\n",
       "    }\n",
       "\n",
       "    .dataframe tbody tr th {\n",
       "        vertical-align: top;\n",
       "    }\n",
       "\n",
       "    .dataframe thead th {\n",
       "        text-align: right;\n",
       "    }\n",
       "</style>\n",
       "<table border=\"1\" class=\"dataframe\">\n",
       "  <thead>\n",
       "    <tr style=\"text-align: right;\">\n",
       "      <th></th>\n",
       "      <th>title</th>\n",
       "      <th>artist</th>\n",
       "      <th>top genre</th>\n",
       "      <th>year</th>\n",
       "      <th>bpm</th>\n",
       "      <th>energy</th>\n",
       "      <th>danceability</th>\n",
       "      <th>dB</th>\n",
       "      <th>liveness</th>\n",
       "      <th>valence</th>\n",
       "      <th>duration</th>\n",
       "      <th>acousticness</th>\n",
       "      <th>speechiness</th>\n",
       "      <th>popularity</th>\n",
       "      <th>valence_type</th>\n",
       "      <th>liveness_type</th>\n",
       "      <th>popularity_type</th>\n",
       "    </tr>\n",
       "  </thead>\n",
       "  <tbody>\n",
       "    <tr>\n",
       "      <th>0</th>\n",
       "      <td>Flowers</td>\n",
       "      <td>Miley Cyrus</td>\n",
       "      <td>pop</td>\n",
       "      <td>2023</td>\n",
       "      <td>118</td>\n",
       "      <td>68</td>\n",
       "      <td>71</td>\n",
       "      <td>-4</td>\n",
       "      <td>3</td>\n",
       "      <td>65</td>\n",
       "      <td>3</td>\n",
       "      <td>6</td>\n",
       "      <td>7</td>\n",
       "      <td>98</td>\n",
       "      <td>Positive</td>\n",
       "      <td>Not so Lively</td>\n",
       "      <td>Popular</td>\n",
       "    </tr>\n",
       "    <tr>\n",
       "      <th>1</th>\n",
       "      <td>Cupid - Twin Ver.</td>\n",
       "      <td>FIFTY FIFTY</td>\n",
       "      <td>k-pop girl group</td>\n",
       "      <td>2023</td>\n",
       "      <td>120</td>\n",
       "      <td>59</td>\n",
       "      <td>78</td>\n",
       "      <td>-8</td>\n",
       "      <td>35</td>\n",
       "      <td>73</td>\n",
       "      <td>2</td>\n",
       "      <td>44</td>\n",
       "      <td>3</td>\n",
       "      <td>97</td>\n",
       "      <td>Positive</td>\n",
       "      <td>Not so Lively</td>\n",
       "      <td>Popular</td>\n",
       "    </tr>\n",
       "    <tr>\n",
       "      <th>2</th>\n",
       "      <td>BESO</td>\n",
       "      <td>ROSALÍA</td>\n",
       "      <td>pop</td>\n",
       "      <td>2023</td>\n",
       "      <td>95</td>\n",
       "      <td>64</td>\n",
       "      <td>77</td>\n",
       "      <td>-7</td>\n",
       "      <td>17</td>\n",
       "      <td>53</td>\n",
       "      <td>3</td>\n",
       "      <td>74</td>\n",
       "      <td>14</td>\n",
       "      <td>96</td>\n",
       "      <td>NaN</td>\n",
       "      <td>Not so Lively</td>\n",
       "      <td>Popular</td>\n",
       "    </tr>\n",
       "    <tr>\n",
       "      <th>3</th>\n",
       "      <td>Boy's a liar Pt. 2</td>\n",
       "      <td>PinkPantheress</td>\n",
       "      <td>bronx drill</td>\n",
       "      <td>2023</td>\n",
       "      <td>133</td>\n",
       "      <td>81</td>\n",
       "      <td>70</td>\n",
       "      <td>-8</td>\n",
       "      <td>25</td>\n",
       "      <td>86</td>\n",
       "      <td>2</td>\n",
       "      <td>25</td>\n",
       "      <td>5</td>\n",
       "      <td>96</td>\n",
       "      <td>Positive</td>\n",
       "      <td>Not so Lively</td>\n",
       "      <td>Popular</td>\n",
       "    </tr>\n",
       "    <tr>\n",
       "      <th>4</th>\n",
       "      <td>Creepin' (with The Weeknd &amp; 21 Savage)</td>\n",
       "      <td>Metro Boomin</td>\n",
       "      <td>rap</td>\n",
       "      <td>2022</td>\n",
       "      <td>98</td>\n",
       "      <td>62</td>\n",
       "      <td>72</td>\n",
       "      <td>-6</td>\n",
       "      <td>8</td>\n",
       "      <td>17</td>\n",
       "      <td>3</td>\n",
       "      <td>42</td>\n",
       "      <td>5</td>\n",
       "      <td>96</td>\n",
       "      <td>Sad</td>\n",
       "      <td>Not so Lively</td>\n",
       "      <td>Popular</td>\n",
       "    </tr>\n",
       "  </tbody>\n",
       "</table>\n",
       "</div>"
      ],
      "text/plain": [
       "                                    title          artist         top genre  \\\n",
       "0                                 Flowers     Miley Cyrus               pop   \n",
       "1                       Cupid - Twin Ver.     FIFTY FIFTY  k-pop girl group   \n",
       "2                                    BESO         ROSALÍA               pop   \n",
       "3                      Boy's a liar Pt. 2  PinkPantheress       bronx drill   \n",
       "4  Creepin' (with The Weeknd & 21 Savage)    Metro Boomin               rap   \n",
       "\n",
       "   year  bpm  energy  danceability   dB  liveness  valence  duration  \\\n",
       "0  2023  118      68             71  -4         3       65         3   \n",
       "1  2023  120      59             78  -8        35       73         2   \n",
       "2  2023   95      64             77  -7        17       53         3   \n",
       "3  2023  133      81             70  -8        25       86         2   \n",
       "4  2022   98      62             72  -6         8       17         3   \n",
       "\n",
       "   acousticness  speechiness   popularity valence_type  liveness_type  \\\n",
       "0             6             7          98     Positive  Not so Lively   \n",
       "1            44             3          97     Positive  Not so Lively   \n",
       "2            74            14          96          NaN  Not so Lively   \n",
       "3            25             5          96     Positive  Not so Lively   \n",
       "4            42             5          96          Sad  Not so Lively   \n",
       "\n",
       "  popularity_type  \n",
       "0         Popular  \n",
       "1         Popular  \n",
       "2         Popular  \n",
       "3         Popular  \n",
       "4         Popular  "
      ]
     },
     "execution_count": 13,
     "metadata": {},
     "output_type": "execute_result"
    }
   ],
   "source": [
    "data.head()"
   ]
  },
  {
   "cell_type": "markdown",
   "id": "051b18dc",
   "metadata": {},
   "source": [
    "### Now lets build a recommendation system for songs"
   ]
  },
  {
   "cell_type": "markdown",
   "id": "2842689e",
   "metadata": {},
   "source": [
    "##### recommendation based on genre"
   ]
  },
  {
   "cell_type": "code",
   "execution_count": 14,
   "id": "483b2ebf",
   "metadata": {},
   "outputs": [
    {
     "data": {
      "application/vnd.jupyter.widget-view+json": {
       "model_id": "078972f598914e22a0e472b47f975734",
       "version_major": 2,
       "version_minor": 0
      },
      "text/plain": [
       "interactive(children=(Dropdown(description='x', options=('pop', 'k-pop girl group', 'bronx drill', 'rap', 'gen…"
      ]
     },
     "metadata": {},
     "output_type": "display_data"
    }
   ],
   "source": [
    "from ipywidgets import interact\n",
    "@interact(x=data['top genre'].unique())\n",
    "def song(x):\n",
    "    recommended_song=data.loc[data['top genre']==x]\n",
    "    print('The recommended song with ',x,' genre are: \\n',recommended_song['title'].head())"
   ]
  },
  {
   "cell_type": "markdown",
   "id": "74c7fc5d",
   "metadata": {},
   "source": [
    "##### recommendation based on year"
   ]
  },
  {
   "cell_type": "code",
   "execution_count": 15,
   "id": "b7877710",
   "metadata": {},
   "outputs": [
    {
     "data": {
      "application/vnd.jupyter.widget-view+json": {
       "model_id": "24281c90aaea4a4f971624efaea28e4a",
       "version_major": 2,
       "version_minor": 0
      },
      "text/plain": [
       "interactive(children=(Dropdown(description='year', options=(2023, 2022, 2016, 2013, 2020, 2004, 2019, 2010, 20…"
      ]
     },
     "metadata": {},
     "output_type": "display_data"
    }
   ],
   "source": [
    "@interact(year=data['year'].unique())\n",
    "def song(year):\n",
    "    recommended_song=data.loc[data['year']==year]\n",
    "    print('The recommended song with release in  ',year,' year are: \\n',recommended_song['title'].head())"
   ]
  },
  {
   "cell_type": "markdown",
   "id": "8187203d",
   "metadata": {},
   "source": [
    "##### recommendation based on popularity type "
   ]
  },
  {
   "cell_type": "code",
   "execution_count": 16,
   "id": "6c82e5c9",
   "metadata": {},
   "outputs": [
    {
     "data": {
      "application/vnd.jupyter.widget-view+json": {
       "model_id": "ade74f4a53cb4969a1937f60e2a323e0",
       "version_major": 2,
       "version_minor": 0
      },
      "text/plain": [
       "interactive(children=(Dropdown(description='p', options=('Popular', nan, 'Not Popular'), value='Popular'), Out…"
      ]
     },
     "metadata": {},
     "output_type": "display_data"
    }
   ],
   "source": [
    "@interact(p=data['popularity_type'].unique())\n",
    "def song(p):\n",
    "    recommended_song=data.loc[data['popularity_type']==p]\n",
    "    print('The recommended song with ',p,' popularity are: \\n',recommended_song['title'].head())"
   ]
  },
  {
   "cell_type": "markdown",
   "id": "8555c5f4",
   "metadata": {},
   "source": [
    "##### recommendation based on valence"
   ]
  },
  {
   "cell_type": "code",
   "execution_count": 17,
   "id": "20f79b12",
   "metadata": {},
   "outputs": [
    {
     "data": {
      "application/vnd.jupyter.widget-view+json": {
       "model_id": "5b54c1170bd343939125b7049338e8a2",
       "version_major": 2,
       "version_minor": 0
      },
      "text/plain": [
       "interactive(children=(Dropdown(description='v', options=('Positive', nan, 'Sad'), value='Positive'), Output())…"
      ]
     },
     "metadata": {},
     "output_type": "display_data"
    }
   ],
   "source": [
    "@interact(v=data['valence_type'].unique())\n",
    "def song(v):\n",
    "    recommended_song=data.loc[data['valence_type']==v]\n",
    "    print('The recommended songs are: \\n',recommended_song['title'].head())"
   ]
  },
  {
   "cell_type": "code",
   "execution_count": 18,
   "id": "8526762d",
   "metadata": {},
   "outputs": [
    {
     "data": {
      "application/vnd.jupyter.widget-view+json": {
       "model_id": "5699b5a3e3844251a885cd8bcfca919b",
       "version_major": 2,
       "version_minor": 0
      },
      "text/plain": [
       "interactive(children=(Dropdown(description='l', options=('Not so Lively', 'Lively'), value='Not so Lively'), O…"
      ]
     },
     "metadata": {},
     "output_type": "display_data"
    }
   ],
   "source": [
    "@interact(l=data['liveness_type'].unique())\n",
    "def song(l):\n",
    "    recommended_song=data.loc[data['liveness_type']==l]\n",
    "    print('The recommended song are: \\n',recommended_song['title'].head())"
   ]
  },
  {
   "cell_type": "code",
   "execution_count": 19,
   "id": "608edcbe",
   "metadata": {},
   "outputs": [
    {
     "data": {
      "application/vnd.jupyter.widget-view+json": {
       "model_id": "bedf0faf24fb4d8ebb2c84b47515085b",
       "version_major": 2,
       "version_minor": 0
      },
      "text/plain": [
       "interactive(children=(Dropdown(description='a', options=('Miley Cyrus', 'FIFTY FIFTY', 'ROSALÍA', 'PinkPanther…"
      ]
     },
     "metadata": {},
     "output_type": "display_data"
    }
   ],
   "source": [
    "@interact(a=data['artist'].unique())\n",
    "def song(a):\n",
    "    recommended_song=data.loc[data['artist']==a]\n",
    "    print('The recommended song are: \\n',recommended_song['title'].head())"
   ]
  },
  {
   "cell_type": "code",
   "execution_count": null,
   "id": "9ae718fc",
   "metadata": {},
   "outputs": [],
   "source": []
  },
  {
   "cell_type": "code",
   "execution_count": null,
   "id": "26bae429",
   "metadata": {},
   "outputs": [],
   "source": []
  }
 ],
 "metadata": {
  "kernelspec": {
   "display_name": "Python 3",
   "language": "python",
   "name": "python3"
  },
  "language_info": {
   "codemirror_mode": {
    "name": "ipython",
    "version": 3
   },
   "file_extension": ".py",
   "mimetype": "text/x-python",
   "name": "python",
   "nbconvert_exporter": "python",
   "pygments_lexer": "ipython3",
   "version": "3.8.8"
  }
 },
 "nbformat": 4,
 "nbformat_minor": 5
}
